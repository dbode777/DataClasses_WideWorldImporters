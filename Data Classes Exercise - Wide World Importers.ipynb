{
 "cells": [
  {
   "cell_type": "markdown",
   "id": "84d4cf14",
   "metadata": {},
   "source": [
    "# Data Classes Exercise - Wide World Importers\n",
    "\n",
    "## Part I and II"
   ]
  },
  {
   "cell_type": "code",
   "execution_count": 16,
   "id": "e14da3b2",
   "metadata": {},
   "outputs": [],
   "source": [
    "import csv\n",
    "\n",
    "with open(\"Orders.csv\",\"rt\",encoding=\"utf-8\") as orders:\n",
    "    orders_list = []\n",
    "    \n",
    "    for row in orders:\n",
    "        orders_list.append(row.split(','))\n",
    "\n",
    "with open(\"invoices.csv\", \"rt\", encoding=\"utf-8\") as invoices:\n",
    "    invoice_list = []\n",
    "    \n",
    "    for row in invoices:\n",
    "        invoice_list.append(row.split(','))\n",
    "        \n",
    "with open(\"customers.csv\",\"rt\",encoding=\"utf-8\") as customers:\n",
    "    customer_list = []\n",
    "    \n",
    "    for row in customers:\n",
    "        customer_list.append(row.split(','))"
   ]
  },
  {
   "cell_type": "code",
   "execution_count": 8,
   "id": "60beeae0",
   "metadata": {
    "scrolled": false
   },
   "outputs": [
    {
     "name": "stdout",
     "output_type": "stream",
     "text": [
      "[['OrderID', 'CustomerID', 'SalespersonPersonID', 'PickedByPersonID', 'ContactPersonID', 'BackorderOrderID', 'OrderDate', 'ExpectedDeliveryDate', 'CustomerPurchaseOrderNumber', 'IsUndersupplyBackordered', 'Comments', 'DeliveryInstructions', 'InternalComments', 'PickingCompletedWhen', 'LastEditedBy', 'LastEditedWhen\\n'], ['1', '832', '2', 'NULL', '3032', '45', '2013-01-01', '2013-01-02', '12126', '1', 'NULL', 'NULL', 'NULL', '2013-01-01 12:00:00.0000000', '7', '2013-01-01 12:00:00.0000000\\n'], ['2', '803', '8', 'NULL', '3003', '46', '2013-01-01', '2013-01-02', '15342', '1', 'NULL', 'NULL', 'NULL', '2013-01-01 12:00:00.0000000', '7', '2013-01-01 12:00:00.0000000\\n'], ['3', '105', '7', 'NULL', '1209', '47', '2013-01-01', '2013-01-02', '12211', '1', 'NULL', 'NULL', 'NULL', '2013-01-01 12:00:00.0000000', '7', '2013-01-01 12:00:00.0000000\\n'], ['4', '57', '16', '3', '1113', 'NULL', '2013-01-01', '2013-01-02', '17129', '1', 'NULL', 'NULL', 'NULL', '2013-01-01 11:00:00.0000000', '3', '2013-01-01 11:00:00.0000000\\n'], ['5', '905', '3', 'NULL', '3105', '48', '2013-01-01', '2013-01-02', '10369', '1', 'NULL', 'NULL', 'NULL', '2013-01-01 12:00:00.0000000', '7', '2013-01-01 12:00:00.0000000\\n'], ['6', '976', '13', '3', '3176', 'NULL', '2013-01-01', '2013-01-02', '13383', '1', 'NULL', 'NULL', 'NULL', '2013-01-01 11:00:00.0000000', '3', '2013-01-01 11:00:00.0000000\\n'], ['7', '575', '8', 'NULL', '2349', '49', '2013-01-01', '2013-01-02', '17913', '1', 'NULL', 'NULL', 'NULL', '2013-01-01 12:00:00.0000000', '7', '2013-01-01 12:00:00.0000000\\n'], ['8', '964', '7', 'NULL', '3164', '50', '2013-01-01', '2013-01-02', '14518', '1', 'NULL', 'NULL', 'NULL', '2013-01-01 12:00:00.0000000', '7', '2013-01-01 12:00:00.0000000\\n'], ['9', '77', '7', 'NULL', '1153', '51', '2013-01-01', '2013-01-02', '17577', '1', 'NULL', 'NULL', 'NULL', '2013-01-01 12:00:00.0000000', '7', '2013-01-01 12:00:00.0000000\\n']]\n"
     ]
    }
   ],
   "source": [
    "print(orders_list[0:10])"
   ]
  },
  {
   "cell_type": "code",
   "execution_count": 17,
   "id": "44f29d8d",
   "metadata": {
    "scrolled": true
   },
   "outputs": [
    {
     "name": "stdout",
     "output_type": "stream",
     "text": [
      "[['InvoiceID', 'CustomerID', 'BillToCustomerID', 'OrderID', 'DeliveryMethodID', 'ContactPersonID', 'AccountsPersonID', 'SalespersonPersonID', 'PackedByPersonID', 'InvoiceDate', 'CustomerPurchaseOrderNumber', 'IsCreditNote', 'CreditNoteReason', 'Comments', 'DeliveryInstructions', 'InternalComments', 'TotalDryItems', 'TotalChillerItems', 'DeliveryRun', 'RunPosition', 'ReturnedDeliveryData', 'ConfirmedDeliveryTime', 'ConfirmedReceivedBy', 'LastEditedBy', 'LastEditedWhen\\n'], ['1', '832', '832', '1', '3', '3032', '3032', '2', '14', '2013-01-01', '12126', '0', 'NULL', 'NULL', '\"Suite 24', ' 1345 Jun Avenue\"', 'NULL', '1', '0', '', '', '\"{\"\"Events\"\": [{ \"\"Event\"\":\"\"Ready for collection\"\"', '\"\"EventTime\"\":\"\"2013-01-01T12:00:00\"\"', '\"\"ConNote\"\":\"\"EAN-125-1051\"\"}', '{ \"\"Event\"\":\"\"DeliveryAttempt\"\"', '\"\"EventTime\"\":\"\"2013-01-02T07:05:00\"\"', '\"\"ConNote\"\":\"\"EAN-125-1051\"\"', '\"\"DriverID\"\":15', '\"\"Latitude\"\":41.3617214', '\"\"Longitude\"\":-81.4695602', '\"\"Status\"\":\"\"Delivered\"\"}]', '\"\"DeliveredWhen\"\":\"\"2013-01-02T07:05:00\"\"', '\"\"ReceivedBy\"\":\"\"Aakriti Byrraju\"\"}\"', '2013-01-02 07:05:00.0000000', 'Aakriti Byrraju', '15', '2013-01-02 07:00:00.0000000\\n'], ['2', '803', '803', '2', '3', '3003', '3003', '8', '14', '2013-01-01', '15342', '0', 'NULL', 'NULL', '\"Unit 7', ' 844 Magnusson Lane\"', 'NULL', '2', '0', '', '', '\"{\"\"Events\"\": [{ \"\"Event\"\":\"\"Ready for collection\"\"', '\"\"EventTime\"\":\"\"2013-01-01T12:00:00\"\"', '\"\"ConNote\"\":\"\"EAN-125-1052\"\"}', '{ \"\"Event\"\":\"\"DeliveryAttempt\"\"', '\"\"EventTime\"\":\"\"2013-01-02T07:10:00\"\"', '\"\"ConNote\"\":\"\"EAN-125-1052\"\"', '\"\"DriverID\"\":15', '\"\"Latitude\"\":40.8657308', '\"\"Longitude\"\":-120.4602262', '\"\"Status\"\":\"\"Delivered\"\"}]', '\"\"DeliveredWhen\"\":\"\"2013-01-02T07:10:00\"\"', '\"\"ReceivedBy\"\":\"\"Bala Dixit\"\"}\"', '2013-01-02 07:10:00.0000000', 'Bala Dixit', '15', '2013-01-02 07:00:00.0000000\\n']]\n"
     ]
    }
   ],
   "source": [
    "print(invoice_list[0:3])"
   ]
  },
  {
   "cell_type": "code",
   "execution_count": 18,
   "id": "9a365b27",
   "metadata": {},
   "outputs": [
    {
     "name": "stdout",
     "output_type": "stream",
     "text": [
      "[['CustomerID', 'CustomerName', 'BillToCustomerID', 'CustomerCategoryID', 'BuyingGroupID', 'PrimaryContactPersonID', 'AlternateContactPersonID', 'DeliveryMethodID', 'DeliveryCityID', 'PostalCityID', 'CreditLimit', 'AccountOpenedDate', 'StandardDiscountPercentage', 'IsStatementSent', 'IsOnCreditHold', 'PaymentDays', 'PhoneNumber', 'FaxNumber', 'DeliveryRun', 'RunPosition', 'WebsiteURL', 'DeliveryAddressLine1', 'DeliveryAddressLine2', 'DeliveryPostalCode', 'DeliveryLocation', 'PostalAddressLine1', 'PostalAddressLine2', 'PostalPostalCode', 'LastEditedBy', 'ValidFrom', 'ValidTo\\n'], ['1', 'Tailspin Toys (Head Office)', '1', '3', '1', '1001', '1002', '3', '19586', '19586', 'NULL', '2013-01-01', '0.000', '0', '0', '7', '(308) 555-0100', '(308) 555-0101', '', '', 'http://www.tailspintoys.com', 'Shop 38', '1877 Mittal Road', '90410', '0xE6100000010CE73F5A52A4BF444010638852B1A759C0', 'PO Box 8975', 'Ribeiroville', '90410', '1', '2013-01-01 00:00:00.0000000', '9999-12-31 23:59:59.9999999\\n'], ['2', '\"Tailspin Toys (Sylvanite', ' MT)\"', '1', '3', '1', '1003', '1004', '3', '33475', '33475', 'NULL', '2013-01-01', '0.000', '0', '0', '7', '(406) 555-0100', '(406) 555-0101', '', '', 'http://www.tailspintoys.com/Sylvanite', 'Shop 245', '705 Dita Lane', '90216', '0xE6100000010CF37A8BE2B05B4840056FA35CF5F75CC0', 'PO Box 259', 'Jogiville', '90216', '1', '2013-01-01 00:00:00.0000000', '9999-12-31 23:59:59.9999999\\n']]\n"
     ]
    }
   ],
   "source": [
    "print(customer_list[0:3])"
   ]
  },
  {
   "cell_type": "markdown",
   "id": "f852cf30",
   "metadata": {},
   "source": [
    "Creating data classes for orders, invoices, and customers:"
   ]
  },
  {
   "cell_type": "code",
   "execution_count": 24,
   "id": "78bd3bca",
   "metadata": {},
   "outputs": [],
   "source": [
    "from dataclasses import dataclass, field\n",
    "\n",
    "from datetime import datetime\n",
    "\n",
    "@dataclass\n",
    "class Orders:\n",
    "    OrderID: int\n",
    "    CustomerID: int\n",
    "    SalespersonPersonID: int\n",
    "    PickedByPersonID: int\n",
    "    ContactPersonID: int\n",
    "    BackOrderID: int\n",
    "    OrderDate: datetime.date\n",
    "    ExpectedDeliveryDate: datetime.date\n",
    "    CustomerPurchaseOrderNumber: int\n",
    "    IsUndersupplyBackordered: str\n",
    "    \n",
    "    # Part 2: Override gt and ge operators\n",
    "    def __gt__(self, other):\n",
    "        return self.OrderDate > other.OrderDate\n",
    "    \n",
    "    def __ge__(self, other):\n",
    "        return self.OrderDate >= other.OrderDate\n",
    "\n",
    "@dataclass\n",
    "class Invoice:\n",
    "    InvoiceID: int\n",
    "    CustomerID: int\n",
    "    BillToCustomerID: int\n",
    "    OrderID: int\n",
    "    DeliveryMethodID: int\n",
    "    ContactPersonID: int\n",
    "    AccountsPersonID: int\n",
    "    SalespersonPersonID: int\n",
    "    PackedByPersonID: int\n",
    "    InvoiceDate: datetime.date\n",
    "    CustomerPurchaseOrderNumber: int\n",
    "    DeliveryInstructions: str\n",
    "    TotalDryItems: int\n",
    "    TotalChillerItems: int\n",
    "    \n",
    "    # Part 2: Override gt and ge operators.\n",
    "    def __gt__(self, other):\n",
    "        return self.InvoiceDate > other.InvoiceDate\n",
    "    def __ge__(self, other):\n",
    "        return self.InvoiceDate >= other.InvoiceDate\n",
    "    \n",
    "@dataclass\n",
    "class Customer:\n",
    "    CustomerID: int\n",
    "    CustomerName: str\n",
    "    BillToCustomerID: int\n",
    "    CustomerCategoryID: int\n",
    "    BuyingGroupID: int\n",
    "    PrimaryContactPersonID: int\n",
    "    AlternateContactPersonID: int\n",
    "    DeliveryMethodID: int\n",
    "    DeliveryCityID: int\n",
    "    PostalCityID: int\n",
    "    AccountOpenedDate: datetime.date\n",
    "    StandardDiscountPercentage: float\n",
    "    PaymentDays: int\n",
    "    PhoneNumber: str\n",
    "    FaxNumber: str\n",
    "    WebsiteURL: str\n",
    "    DeliveryAddressLine1: str\n",
    "    DeliveryAddressLine2: str\n",
    "    DeliveryPostalCode: str"
   ]
  },
  {
   "cell_type": "code",
   "execution_count": null,
   "id": "6a48bcd5",
   "metadata": {},
   "outputs": [],
   "source": []
  }
 ],
 "metadata": {
  "kernelspec": {
   "display_name": "Python 3 (ipykernel)",
   "language": "python",
   "name": "python3"
  },
  "language_info": {
   "codemirror_mode": {
    "name": "ipython",
    "version": 3
   },
   "file_extension": ".py",
   "mimetype": "text/x-python",
   "name": "python",
   "nbconvert_exporter": "python",
   "pygments_lexer": "ipython3",
   "version": "3.8.5"
  }
 },
 "nbformat": 4,
 "nbformat_minor": 5
}
